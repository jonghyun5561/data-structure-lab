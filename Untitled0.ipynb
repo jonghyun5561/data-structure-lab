{
  "nbformat": 4,
  "nbformat_minor": 0,
  "metadata": {
    "colab": {
      "provenance": [],
      "include_colab_link": true
    },
    "kernelspec": {
      "name": "python3",
      "display_name": "Python 3"
    },
    "language_info": {
      "name": "python"
    }
  },
  "cells": [
    {
      "cell_type": "markdown",
      "metadata": {
        "id": "view-in-github",
        "colab_type": "text"
      },
      "source": [
        "<a href=\"https://colab.research.google.com/github/jonghyun5561/data-structure-lab/blob/master/Untitled0.ipynb\" target=\"_parent\"><img src=\"https://colab.research.google.com/assets/colab-badge.svg\" alt=\"Open In Colab\"/></a>"
      ]
    },
    {
      "cell_type": "code",
      "execution_count": null,
      "metadata": {
        "id": "rojKzGy-1U1Z"
      },
      "outputs": [],
      "source": [
        "Lec 05:Basic Data Striucture stracks\n",
        "\n",
        "1.stack class"
      ]
    },
    {
      "cell_type": "code",
      "source": [
        "class Stack:\n",
        "  def __init__(self):\n",
        "    self . items = []\n",
        "  def is_empty(self):\n",
        "    return self.items ==[]\n",
        "  def push(self, item):\n",
        "    self.items.append(item)\n",
        "  def pop(self):\n",
        "    return self.items.pop()\n",
        "  def peek(self):\n",
        "    return self.items[len(self.items)-1]\n",
        "  def size(self):\n",
        "    return len(self.items)\n",
        "  def piop_all(self):\n",
        "    self.items.clear()\n",
        "s = Stack()\n",
        "print(s.is_empty)\n"
      ],
      "metadata": {
        "id": "ZmTav4zZ1191"
      },
      "execution_count": null,
      "outputs": []
    },
    {
      "cell_type": "code",
      "source": [
        "def par_checker(symbol_string):\n",
        "  s = Stack()\n",
        "  balanced = True\n",
        "  index = 0\n",
        "\n",
        "  while index < len(symbol_string) and balanced:\n",
        "    symbol = symbol_string[index]\n",
        "    if symbol == \"(\":\n",
        "       s.push(symbol)\n",
        "    else:\n",
        "      if s.is_empty():\n",
        "         balanced = False\n",
        "      else: s. pop()\n",
        "\n",
        "    index = index + 1\n",
        "  if balanced and s.is_empty():\n",
        "    return True\n",
        "  else:\n",
        "    return False\n"
      ],
      "metadata": {
        "id": "9_P4sCGB4CS9"
      },
      "execution_count": null,
      "outputs": []
    }
  ]
}